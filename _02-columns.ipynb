{
  "cells": [
    {
      "cell_type": "raw",
      "metadata": {},
      "source": [
        "---\n",
        "format: \n",
        "  revealjs:\n",
        "    embed-resources: true\n",
        "---"
      ],
      "id": "cd2a9b49"
    },
    {
      "cell_type": "markdown",
      "metadata": {},
      "source": [
        "## Multiple columns\n",
        "\n",
        ":::: {.columns}\n",
        "\n",
        "::: {.column width=\"40%\"}\n",
        "Left column\n",
        ":::\n",
        "\n",
        "::: {.column width=\"60%\"}\n",
        "Right column\n",
        ":::\n",
        "\n",
        "::::\n",
        "\n",
        "## Output location\n"
      ],
      "id": "5f1a2c62"
    },
    {
      "cell_type": "code",
      "metadata": {
        "output-location": "column"
      },
      "source": [
        "#| echo: true\n",
        "from plotnine import ggplot, geom_point, aes, stat_smooth, facet_wrap\n",
        "from plotnine.data import mtcars\n",
        "\n",
        "(ggplot(mtcars, aes(\"wt\", \"mpg\", color=\"factor(gear)\"))\n",
        " + geom_point()\n",
        " + stat_smooth(method=\"lm\")\n",
        " + facet_wrap(\"~gear\"))"
      ],
      "id": "d8d6f7f2",
      "execution_count": null,
      "outputs": []
    }
  ],
  "metadata": {
    "kernelspec": {
      "display_name": "Python 3",
      "language": "python",
      "name": "python3"
    }
  },
  "nbformat": 4,
  "nbformat_minor": 5
}